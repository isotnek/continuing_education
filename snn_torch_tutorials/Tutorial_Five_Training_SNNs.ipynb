{
 "cells": [
  {
   "cell_type": "code",
   "execution_count": 1,
   "id": "03dac10a",
   "metadata": {},
   "outputs": [],
   "source": [
    "import snntorch as snn\n",
    "from snntorch import spikegen\n",
    "from snntorch import spikeplot as splt\n",
    "\n",
    "import torch\n",
    "import torch.nn as nn\n",
    "from torch.utils.data import DataLoader\n",
    "from torchvision import datasets, transforms\n",
    "\n",
    "import matplotlib.pyplot as plt\n",
    "import numpy as np\n",
    "import itertools"
   ]
  },
  {
   "cell_type": "markdown",
   "id": "c814e554",
   "metadata": {},
   "source": [
    "# Surrogate Gradient Approach\n",
    "\n",
    "The use of the Heaviside function during the determination of whether or not to spike causes issues during learning because it's derivative, the Dirac Delta Function, tends to be 0 for most values of membrane potential except at the threshold, where it is infinite. This discontinuity is fine during the forward pass, but prevents the use of backpropagation during learning (the *dead neuron problem*). Therefore, during the backward pass, a surrogate term must be used. \n",
    "\n",
    "This has interesting implications WRT the robustness of SNNs to adversarial attacks which rely on gradient-based approaches."
   ]
  },
  {
   "cell_type": "markdown",
   "id": "cc71923f",
   "metadata": {},
   "source": [
    "The default method in snnTorch is to smooth the Heaviside function with the arctangent function, which does a good job of approximating the intended result."
   ]
  },
  {
   "cell_type": "code",
   "execution_count": 2,
   "id": "b173c883",
   "metadata": {},
   "outputs": [],
   "source": [
    "# Leaky neuron model with a custom function in the backwards pass\n",
    "\n",
    "class LeakySurrogate(nn.Module):\n",
    "    def __init__(self, beta, threshold = 1):\n",
    "        super(LeakySurrogate, self).__init__()\n",
    "        \n",
    "        # Initialize decay rate (beta) and threshold\n",
    "        self.beta = beta\n",
    "        self.threshold = threshold\n",
    "        self.spike_gradient = self.ATan.apply\n",
    "        \n",
    "    #Set up the forward function\n",
    "    def forward(self, input_, mem):\n",
    "        spk = self.spike_gradient((mem - self.threshold)) # Apply the Heaviside function\n",
    "        reset = (self.beta * spk * self.threshold).detach() # Remove reset from the computational graph\n",
    "        mem = self.beta * mem + input_ - reset\n",
    "        return spk, mem\n",
    "        \n",
    "    # Backward pass - override Dirac Delta with the derivative of the ArcTan function\n",
    "    @staticmethod\n",
    "    class ATan(torch.autograd.Function):\n",
    "        @staticmethod\n",
    "        def forward(ctx, mem):\n",
    "            spk = (mem > 0).float() # Heaviside on the forward pass\n",
    "            ctx.save_for_backward(mem)# Store mem for use in backwards pass\n",
    "            return spk\n",
    "\n",
    "        @staticmethod\n",
    "        def backward(ctx, grad_output):\n",
    "            (spk, ) = ctx.saved_tensors # Retrieve mem\n",
    "            grad = 1 / (1 + (np.pi * mem).pow_(2)) * grad_output\n",
    "            return grad"
   ]
  },
  {
   "cell_type": "code",
   "execution_count": 3,
   "id": "5fc352e0",
   "metadata": {},
   "outputs": [],
   "source": [
    "# Instantiate the neuron defined above...\n",
    "\n",
    "lif1 = LeakySurrogate(beta = 0.9)\n",
    "\n",
    "# ...or use the snnTorch implementation\n",
    "\n",
    "lif1 = snn.Leaky(beta = 0.9)"
   ]
  },
  {
   "cell_type": "markdown",
   "id": "f6ae5ba7",
   "metadata": {},
   "source": [
    "# Setting up Static MNIST Dataset"
   ]
  },
  {
   "cell_type": "code",
   "execution_count": 4,
   "id": "631c9cb5",
   "metadata": {},
   "outputs": [],
   "source": [
    "# Dataloader arguments\n",
    "\n",
    "batch_size = 128\n",
    "data_path = './data/mnist'\n",
    "\n",
    "dtype = torch.float\n",
    "device = torch.device('cuda') if torch.cuda.is_available() else torch.device('cpu')"
   ]
  },
  {
   "cell_type": "code",
   "execution_count": 5,
   "id": "b6a6ec1c",
   "metadata": {},
   "outputs": [],
   "source": [
    "# Define transform\n",
    "\n",
    "transform = transforms.Compose([\n",
    "    transforms.Resize((28, 28)),\n",
    "    transforms.Grayscale(),\n",
    "    transforms.ToTensor(),\n",
    "    transforms.Normalize((0, ), (1, ))\n",
    "])\n",
    "\n",
    "mnist_train = datasets.MNIST(data_path, train = True, download = True, transform = transform)\n",
    "mnist_test = datasets.MNIST(data_path, train = False, download = True, transform = transform)"
   ]
  },
  {
   "cell_type": "code",
   "execution_count": 6,
   "id": "c9b7a654",
   "metadata": {},
   "outputs": [],
   "source": [
    "# Create Dataloaders\n",
    "\n",
    "train_loader = DataLoader(mnist_train, batch_size = batch_size, shuffle = True, drop_last = True)\n",
    "test_loader = DataLoader(mnist_test, batch_size = batch_size, shuffle = True, drop_last = True)"
   ]
  },
  {
   "cell_type": "markdown",
   "id": "c81a2820",
   "metadata": {},
   "source": [
    "# Defining the Network"
   ]
  },
  {
   "cell_type": "code",
   "execution_count": 7,
   "id": "0f4a5c7f",
   "metadata": {},
   "outputs": [],
   "source": [
    "# Network architecture\n",
    "\n",
    "num_inputs = 28 * 28\n",
    "num_hidden = 100\n",
    "num_outputs = 10\n",
    "\n",
    "# Temporal dynamics\n",
    "\n",
    "num_steps = 25\n",
    "beta = 0.95"
   ]
  },
  {
   "cell_type": "code",
   "execution_count": 8,
   "id": "525391f8",
   "metadata": {},
   "outputs": [],
   "source": [
    "# Define network\n",
    "\n",
    "class Net(nn.Module):\n",
    "    def __init__(self):\n",
    "        super().__init__()\n",
    "        \n",
    "        # Initialize layers\n",
    "        self.fc1 = nn.Linear(num_inputs, num_hidden)\n",
    "        self.lif1 = snn.Leaky(beta = beta)\n",
    "        self.fc2 = nn.Linear(num_hidden, num_outputs)\n",
    "        self.lif2 = snn.Leaky(beta = beta)\n",
    "        \n",
    "    def forward(self, x):\n",
    "        \n",
    "        # Initialize the hidden states at t = 0\n",
    "        mem1 = self.lif1.init_leaky()\n",
    "        mem2 = self.lif2.init_leaky()\n",
    "        \n",
    "        # Record the final layer\n",
    "        spk2_rec = []\n",
    "        mem2_rec = []\n",
    "        \n",
    "        for step in range(num_steps):\n",
    "            cur1 = self.fc1(x)\n",
    "            spk1, mem1 = self.lif1(cur1, mem1)\n",
    "            cur2 = self.fc2(spk1)\n",
    "            spk2, mem2 = self.lif2(cur2, mem2)\n",
    "            spk2_rec.append(spk2)\n",
    "            mem2_rec.append(mem2)\n",
    "        \n",
    "        return torch.stack(spk2_rec, dim = 0), torch.stack(mem2_rec, dim = 0)\n",
    "\n",
    "# Load the network onto CUDA if available\n",
    "net = Net().to(device)"
   ]
  },
  {
   "cell_type": "markdown",
   "id": "8252f21c",
   "metadata": {},
   "source": [
    "# Training the SNN"
   ]
  },
  {
   "cell_type": "code",
   "execution_count": 9,
   "id": "9ecbfa4b",
   "metadata": {},
   "outputs": [],
   "source": [
    "# Pass data into the network, sum spikes over time, and compare\n",
    "# the neuron with the highest number of spikes (rate coding) with the target\n",
    "\n",
    "def print_batch_accuracy(data, targets, train = False):\n",
    "    output, _ = net(data.view(batch_size, -1))\n",
    "    _, idx = output.sum(dim = 0).max(1)\n",
    "    acc = np.mean((targets == idx).detach().cpu().numpy())\n",
    "    \n",
    "    if train:\n",
    "        print(f'Train set accuracy for a single minibatch: {acc * 100: .2f}%')\n",
    "    else:\n",
    "        print(f'Test set accuracy for a single minibatch: {acc * 100: .2f}%')\n",
    "\n",
    "def train_printer():\n",
    "    print(f'Epoch {epoch}, iteration {iter_counter}')\n",
    "    print(f'Train Set Loss: {loss_hist[counter]: .2f}')\n",
    "    print(f'Test Set Loss: {test_loss_hist[counter]: .2f}')\n",
    "    print_batch_accuracy(data, targets, train = True)\n",
    "    print_batch_accuracy(test_data, test_targets, train = False)\n",
    "    print('\\n')"
   ]
  },
  {
   "cell_type": "code",
   "execution_count": 10,
   "id": "aee370a8",
   "metadata": {},
   "outputs": [],
   "source": [
    "# Set loss & optimizer\n",
    "\n",
    "loss = nn.CrossEntropyLoss()\n",
    "\n",
    "optimizer = torch.optim.Adam(net.parameters(), lr = 5e-4, betas = (0.9, 0.999))"
   ]
  },
  {
   "cell_type": "code",
   "execution_count": 11,
   "id": "f68301a5",
   "metadata": {},
   "outputs": [
    {
     "name": "stdout",
     "output_type": "stream",
     "text": [
      "torch.Size([25, 128, 10])\n"
     ]
    }
   ],
   "source": [
    "# Run one iteration of training\n",
    "data, targets = next(iter(train_loader))\n",
    "data = data.to(device)\n",
    "targets = targets.to(device)\n",
    "\n",
    "# Flatten the input vector and pass it into the network\n",
    "\n",
    "spk_rec, mem_rec = net(data.view(batch_size, -1))\n",
    "\n",
    "print(mem_rec.size())"
   ]
  },
  {
   "cell_type": "markdown",
   "id": "11405030",
   "metadata": {},
   "source": [
    "The above corresponds to: 25 time steps, 128 samples of data, and 10 output neurons"
   ]
  },
  {
   "cell_type": "code",
   "execution_count": 12,
   "id": "89f8d5ad",
   "metadata": {},
   "outputs": [
    {
     "name": "stdout",
     "output_type": "stream",
     "text": [
      "Training loss:  63.607\n",
      "Train set accuracy for a single minibatch:  12.50%\n"
     ]
    }
   ],
   "source": [
    "# Calculate the loss at each time step and sum them across all time steps\n",
    "\n",
    "loss_val = torch.zeros((1), dtype = dtype, device = device)\n",
    "\n",
    "# Sum loss at every step\n",
    "\n",
    "for step in range(num_steps):\n",
    "    loss_val += loss(mem_rec[step], targets)\n",
    "    \n",
    "print(f'Training loss: {loss_val.item(): .3f}') \n",
    "print_batch_accuracy(data, targets, train = True)"
   ]
  },
  {
   "cell_type": "code",
   "execution_count": 13,
   "id": "3f980304",
   "metadata": {},
   "outputs": [],
   "source": [
    "# Administer a single weight update\n",
    "\n",
    "# Clear previously stored gradients\n",
    "optimizer.zero_grad()\n",
    "\n",
    "# Calculate the gradients\n",
    "loss_val.backward()\n",
    "\n",
    "# Weight update\n",
    "optimizer.step()"
   ]
  },
  {
   "cell_type": "markdown",
   "id": "71dd6ec0",
   "metadata": {},
   "source": [
    "Re-running the loss and accuracy caluculation after a single iteration"
   ]
  },
  {
   "cell_type": "code",
   "execution_count": 14,
   "id": "2e38b9ab",
   "metadata": {},
   "outputs": [
    {
     "name": "stdout",
     "output_type": "stream",
     "text": [
      "Training loss: 58.071\n",
      "Train set accuracy for a single minibatch:  12.50%\n"
     ]
    }
   ],
   "source": [
    "# Calculate new network outputs using the same data\n",
    "\n",
    "spk_rec, mem_rec = net(data.view(batch_size, -1))\n",
    "\n",
    "# Initialize the total loss value\n",
    "\n",
    "loss_val = torch.zeros((1), dtype = dtype, device = device)\n",
    "\n",
    "# Sum loss at every step\n",
    "\n",
    "for step in range(num_steps):\n",
    "    loss_val += loss(mem_rec[step], targets)\n",
    "    \n",
    "print(f'Training loss: {loss_val.item():.3f}')\n",
    "\n",
    "print_batch_accuracy(data, targets, train = True)"
   ]
  },
  {
   "cell_type": "code",
   "execution_count": 15,
   "id": "bb6a8e6b",
   "metadata": {},
   "outputs": [
    {
     "name": "stdout",
     "output_type": "stream",
     "text": [
      "Epoch 0, iteration 0\n",
      "Train Set Loss:  61.04\n",
      "Test Set Loss:  56.09\n",
      "Train set accuracy for a single minibatch:  15.62%\n",
      "Test set accuracy for a single minibatch:  14.84%\n",
      "\n",
      "\n",
      "Epoch 0, iteration 50\n",
      "Train Set Loss:  20.16\n",
      "Test Set Loss:  16.46\n",
      "Train set accuracy for a single minibatch:  82.81%\n",
      "Test set accuracy for a single minibatch:  89.84%\n",
      "\n",
      "\n",
      "Epoch 0, iteration 100\n",
      "Train Set Loss:  15.10\n",
      "Test Set Loss:  15.22\n",
      "Train set accuracy for a single minibatch:  81.25%\n",
      "Test set accuracy for a single minibatch:  87.50%\n",
      "\n",
      "\n",
      "Epoch 0, iteration 150\n",
      "Train Set Loss:  16.87\n",
      "Test Set Loss:  10.40\n",
      "Train set accuracy for a single minibatch:  85.94%\n",
      "Test set accuracy for a single minibatch:  89.84%\n",
      "\n",
      "\n",
      "Epoch 0, iteration 200\n",
      "Train Set Loss:  10.90\n",
      "Test Set Loss:  12.34\n",
      "Train set accuracy for a single minibatch:  90.62%\n",
      "Test set accuracy for a single minibatch:  88.28%\n",
      "\n",
      "\n",
      "Epoch 0, iteration 250\n",
      "Train Set Loss:  9.31\n",
      "Test Set Loss:  8.93\n",
      "Train set accuracy for a single minibatch:  92.19%\n",
      "Test set accuracy for a single minibatch:  89.84%\n",
      "\n",
      "\n",
      "Epoch 0, iteration 300\n",
      "Train Set Loss:  14.17\n",
      "Test Set Loss:  10.67\n",
      "Train set accuracy for a single minibatch:  83.59%\n",
      "Test set accuracy for a single minibatch:  92.19%\n",
      "\n",
      "\n",
      "Epoch 0, iteration 350\n",
      "Train Set Loss:  7.71\n",
      "Test Set Loss:  9.06\n",
      "Train set accuracy for a single minibatch:  93.75%\n",
      "Test set accuracy for a single minibatch:  89.84%\n",
      "\n",
      "\n",
      "Epoch 0, iteration 400\n",
      "Train Set Loss:  7.74\n",
      "Test Set Loss:  6.35\n",
      "Train set accuracy for a single minibatch:  91.41%\n",
      "Test set accuracy for a single minibatch:  92.97%\n",
      "\n",
      "\n",
      "Epoch 0, iteration 450\n",
      "Train Set Loss:  7.45\n",
      "Test Set Loss:  10.11\n",
      "Train set accuracy for a single minibatch:  92.19%\n",
      "Test set accuracy for a single minibatch:  92.97%\n",
      "\n",
      "\n",
      "Epoch 1, iteration 32\n",
      "Train Set Loss:  9.77\n",
      "Test Set Loss:  8.14\n",
      "Train set accuracy for a single minibatch:  84.38%\n",
      "Test set accuracy for a single minibatch:  91.41%\n",
      "\n",
      "\n",
      "Epoch 1, iteration 82\n",
      "Train Set Loss:  6.51\n",
      "Test Set Loss:  6.09\n",
      "Train set accuracy for a single minibatch:  92.19%\n",
      "Test set accuracy for a single minibatch:  92.97%\n",
      "\n",
      "\n",
      "Epoch 1, iteration 132\n",
      "Train Set Loss:  8.12\n",
      "Test Set Loss:  7.82\n",
      "Train set accuracy for a single minibatch:  89.84%\n",
      "Test set accuracy for a single minibatch:  88.28%\n",
      "\n",
      "\n",
      "Epoch 1, iteration 182\n",
      "Train Set Loss:  8.23\n",
      "Test Set Loss:  5.73\n",
      "Train set accuracy for a single minibatch:  87.50%\n",
      "Test set accuracy for a single minibatch:  89.84%\n",
      "\n",
      "\n",
      "Epoch 1, iteration 232\n",
      "Train Set Loss:  8.55\n",
      "Test Set Loss:  6.55\n",
      "Train set accuracy for a single minibatch:  92.97%\n",
      "Test set accuracy for a single minibatch:  90.62%\n",
      "\n",
      "\n",
      "Epoch 1, iteration 282\n",
      "Train Set Loss:  9.00\n",
      "Test Set Loss:  8.47\n",
      "Train set accuracy for a single minibatch:  91.41%\n",
      "Test set accuracy for a single minibatch:  92.19%\n",
      "\n",
      "\n",
      "Epoch 1, iteration 332\n",
      "Train Set Loss:  9.82\n",
      "Test Set Loss:  7.11\n",
      "Train set accuracy for a single minibatch:  89.06%\n",
      "Test set accuracy for a single minibatch:  91.41%\n",
      "\n",
      "\n",
      "Epoch 1, iteration 382\n",
      "Train Set Loss:  7.90\n",
      "Test Set Loss:  6.87\n",
      "Train set accuracy for a single minibatch:  88.28%\n",
      "Test set accuracy for a single minibatch:  91.41%\n",
      "\n",
      "\n",
      "Epoch 1, iteration 432\n",
      "Train Set Loss:  10.63\n",
      "Test Set Loss:  4.83\n",
      "Train set accuracy for a single minibatch:  87.50%\n",
      "Test set accuracy for a single minibatch:  94.53%\n",
      "\n",
      "\n"
     ]
    }
   ],
   "source": [
    "# Set up training loop\n",
    "\n",
    "num_epochs = 2\n",
    "loss_hist = []\n",
    "test_loss_hist = []\n",
    "counter = 0\n",
    "\n",
    "# Outer training loop\n",
    "for epoch in range(num_epochs):\n",
    "    iter_counter = 0\n",
    "    train_batch = iter(train_loader)\n",
    "    \n",
    "    # Minibatch training loop\n",
    "    for data, targets in train_batch:\n",
    "        data = data.to(device)\n",
    "        targets = targets.to(device)\n",
    "        \n",
    "        # Forward pass\n",
    "        net.train()\n",
    "        spk_rec, mem_rec = net(data.view(batch_size, -1))\n",
    "        \n",
    "        # Initialize the loss and sum over time\n",
    "        loss_val = torch.zeros((1), dtype = dtype, device = device)\n",
    "        for step in range(num_steps):\n",
    "            loss_val += loss(mem_rec[step], targets)\n",
    "            \n",
    "        # Gradient calculation and weight update\n",
    "        optimizer.zero_grad()\n",
    "        loss_val.backward()\n",
    "        optimizer.step()\n",
    "        \n",
    "        # Store loss history for future plotting\n",
    "        loss_hist.append (loss_val.item())\n",
    "        \n",
    "        # Test set\n",
    "        with torch.no_grad():\n",
    "            net.eval()\n",
    "            test_data, test_targets = next(iter(test_loader))\n",
    "            test_data = test_data.to(device)\n",
    "            test_targets = test_targets.to(device)\n",
    "            \n",
    "            # Test set forward pass\n",
    "            test_spk, test_mem = net(test_data.view(batch_size, -1))\n",
    "            \n",
    "            # Test set loss\n",
    "            test_loss = torch.zeros((1), dtype = dtype, device = device)\n",
    "            for step in range(num_steps):\n",
    "                test_loss += loss(test_mem[step], test_targets)\n",
    "            test_loss_hist.append(test_loss.item())\n",
    "            \n",
    "            # Print train/test loss & accuracy\n",
    "            if counter % 50 == 0:\n",
    "                train_printer()\n",
    "            counter += 1\n",
    "            iter_counter += 1"
   ]
  },
  {
   "cell_type": "code",
   "execution_count": 16,
   "id": "e5d8f9f6",
   "metadata": {},
   "outputs": [
    {
     "data": {
      "text/plain": [
       "<function matplotlib.pyplot.show(close=None, block=None)>"
      ]
     },
     "execution_count": 16,
     "metadata": {},
     "output_type": "execute_result"
    },
    {
     "data": {
      "image/png": "[encoded data removed]",
      "text/plain": [
       "<Figure size 1000x500 with 1 Axes>"
      ]
     },
     "metadata": {},
     "output_type": "display_data"
    }
   ],
   "source": [
    "# Plot loss\n",
    "\n",
    "fig = plt.figure(facecolor = 'w', figsize = (10, 5))\n",
    "plt.plot(loss_hist)\n",
    "plt.plot(test_loss_hist)\n",
    "plt.title('Loss Curves')\n",
    "plt.legend(['Train Loss', 'Test Loss'])\n",
    "plt.xlabel('Iteration')\n",
    "plt.ylabel('Loss')\n",
    "plt.show"
   ]
  },
  {
   "cell_type": "code",
   "execution_count": 17,
   "id": "aad74f41",
   "metadata": {},
   "outputs": [],
   "source": [
    "# Assess test set accuracy\n",
    "\n",
    "total = 0\n",
    "correct = 0\n",
    "\n",
    "# drop_last switched to False to keep all samples\n",
    "\n",
    "test_loader = DataLoader(mnist_test, batch_size = batch_size, shuffle = True, drop_last = False)\n",
    "\n",
    "with torch.no_grad():\n",
    "    net.eval()\n",
    "    for data, targets in test_loader:\n",
    "        data = data.to(device)\n",
    "        targets = targets.to(device)\n",
    "        \n",
    "        # Forward pass\n",
    "        test_spk, _ = net(data.view(data.size(0), -1))\n",
    "        \n",
    "        # Calculate total accuracy\n",
    "        _, predicted = test_spk.sum(dim = 0).max(1)\n",
    "        total += targets.size(0)\n",
    "        correct += (predicted == targets).sum().item()"
   ]
  },
  {
   "cell_type": "code",
   "execution_count": 18,
   "id": "01a3d8b5",
   "metadata": {},
   "outputs": [
    {
     "name": "stdout",
     "output_type": "stream",
     "text": [
      "Total correctly classified test set images: 9212/10000\n",
      "Test Set Accuracy:  92.12%\n"
     ]
    }
   ],
   "source": [
    "print(f'Total correctly classified test set images: {correct}/{total}')\n",
    "print(f'Test Set Accuracy: {100 * correct / total: .2f}%')"
   ]
  }
 ],
 "metadata": {
  "kernelspec": {
   "display_name": "Python 3 (ipykernel)",
   "language": "python",
   "name": "python3"
  },
  "language_info": {
   "codemirror_mode": {
    "name": "ipython",
    "version": 3
   },
   "file_extension": ".py",
   "mimetype": "text/x-python",
   "name": "python",
   "nbconvert_exporter": "python",
   "pygments_lexer": "ipython3",
   "version": "3.10.8"
  }
 },
 "nbformat": 4,
 "nbformat_minor": 5
}
