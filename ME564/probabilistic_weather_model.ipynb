{
 "cells": [
  {
   "cell_type": "markdown",
   "id": "b4373377-5d7b-4e88-8055-a4d969c90c3d",
   "metadata": {},
   "source": [
    "This is an example of a toy dynamical system from the course notes for UW's MSE 564 course.\n",
    "\n",
    "In this case, we model the weather given the following rules, which are then encoded in the Markov transition probability matrix (TPM):\n",
    "\n",
    "1) If today is a rainy day, then:\n",
    "   - There is a 50% chance that tomorrow will be rainy\n",
    "   - There is a 25% chance that tomorrow will be nice\n",
    "   - There is a 25% chance that tomorrow will be cloudy\n",
    "\n",
    "2) If today is a nice day, then:\n",
    "   - There is a 50% chance that tomorrow will be rainy\n",
    "   - There is a 0% chance that tomorrow wil be nice\n",
    "   - There is a 50% chance that tomorrow will be cloudy\n",
    "3) If today is a cloudy day, then:\n",
    "   - There is a 25% chance that tomorrow will be rainy\n",
    "   - There is a 25% chance that tomorrow will be nice\n",
    "   - There is a 50% chance that tomorrow will be cloudy\n",
    "  \n",
    "Therefore, our TPM will be a 3x3 matrix, which we will multiply by the 3x1 vector x_today to yield the vector x_tomorrow"
   ]
  },
  {
   "cell_type": "code",
   "execution_count": 1,
   "id": "58297319-c277-46d2-9bef-e93f41bfcbf2",
   "metadata": {},
   "outputs": [],
   "source": [
    "import numpy as np\n",
    "from matplotlib import pyplot as plt"
   ]
  },
  {
   "cell_type": "code",
   "execution_count": 2,
   "id": "f5ee6491-2cd4-4b7a-b962-31a60d4cda8c",
   "metadata": {},
   "outputs": [
    {
     "name": "stdout",
     "output_type": "stream",
     "text": [
      "The TPM is of shape: (3, 3)\n",
      "x_today is of shape: (3,)\n"
     ]
    }
   ],
   "source": [
    "# Define the Markov transition probability matrix and set the current state to a nice day\n",
    "\n",
    "A = np.array([[0.5, 0.5, 0.25], [0.25, 0, 0.25], [0.25, 0.5, 0.5]])\n",
    "x_today = np.array([0, 1, 0]) # It's nice outside!\n",
    "\n",
    "print(f'The TPM is of shape: {A.shape}')\n",
    "print(f'x_today is of shape: {x_today.shape}')"
   ]
  },
  {
   "cell_type": "code",
   "execution_count": 3,
   "id": "6d5ee11b-8b6d-40f9-8ba5-a8ee667ddf04",
   "metadata": {},
   "outputs": [
    {
     "name": "stdout",
     "output_type": "stream",
     "text": [
      "[0.5 0.  0.5]\n"
     ]
    }
   ],
   "source": [
    "# Quick test\n",
    "\n",
    "print(A @ x_today)"
   ]
  },
  {
   "cell_type": "code",
   "execution_count": 4,
   "id": "bb775303-4a6d-4673-8d4a-a537143c323c",
   "metadata": {},
   "outputs": [],
   "source": [
    "# Define the function used to generate a prediction of the evolution of the weather\n",
    "\n",
    "def weather_predictor(A, x_today, n_steps):\n",
    "    weather_trace = np.zeros((n_steps, x_today.size))\n",
    "    for i in range(n_steps):\n",
    "        x_tomorrow = A @ x_today\n",
    "        x_today = x_tomorrow\n",
    "        weather_trace[i, :] = x_tomorrow\n",
    "    return weather_trace"
   ]
  },
  {
   "cell_type": "code",
   "execution_count": 5,
   "id": "b9f0aadb-c966-457f-90c6-ad08979ae727",
   "metadata": {},
   "outputs": [
    {
     "data": {
      "text/plain": [
       "(100, 3)"
      ]
     },
     "execution_count": 5,
     "metadata": {},
     "output_type": "execute_result"
    }
   ],
   "source": [
    "# Call the function with 100 timesteps\n",
    "trace = weather_predictor(A, x_today, 100)\n",
    "trace.shape"
   ]
  },
  {
   "cell_type": "code",
   "execution_count": 6,
   "id": "0b3ccb2b-5e36-45d4-99eb-818978e5a3ce",
   "metadata": {},
   "outputs": [
    {
     "data": {
      "image/png": "[encoded data removed]",
      "text/plain": [
       "<Figure size 640x480 with 1 Axes>"
      ]
     },
     "metadata": {},
     "output_type": "display_data"
    }
   ],
   "source": [
    "# Plot the weather trace\n",
    "plt.plot(trace)\n",
    "plt.grid(True)"
   ]
  },
  {
   "cell_type": "code",
   "execution_count": null,
   "id": "b14a15f4-a16e-4419-917a-6f27e446b843",
   "metadata": {},
   "outputs": [],
   "source": []
  }
 ],
 "metadata": {
  "kernelspec": {
   "display_name": "Python 3 (ipykernel)",
   "language": "python",
   "name": "python3"
  },
  "language_info": {
   "codemirror_mode": {
    "name": "ipython",
    "version": 3
   },
   "file_extension": ".py",
   "mimetype": "text/x-python",
   "name": "python",
   "nbconvert_exporter": "python",
   "pygments_lexer": "ipython3",
   "version": "3.11.4"
  }
 },
 "nbformat": 4,
 "nbformat_minor": 5
}
