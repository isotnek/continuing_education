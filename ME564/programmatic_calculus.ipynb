{
 "cells": [
  {
   "cell_type": "markdown",
   "id": "369d0b5e-7df7-413f-9ef8-662914b54c2a",
   "metadata": {},
   "source": [
    "# Differentiation in Simple Cases\n",
    "For simple problems involing differentiation, try using something like [SymPy](https://docs.sympy.org/latest/tutorials/intro-tutorial/calculus.html#derivatives) for a symbolic approach. Note that this isn't a good approach to e.g. computing gradients (for that, use [Torch](https://pytorch.org/tutorials/beginner/basics/autogradqs_tutorial.html) or [JAX](https://jax.readthedocs.io/en/latest/notebooks/autodiff_cookbook.html)"
   ]
  },
  {
   "cell_type": "code",
   "execution_count": null,
   "id": "6c3c25c0-3d9a-4493-9ed3-026add8c99be",
   "metadata": {},
   "outputs": [],
   "source": []
  }
 ],
 "metadata": {
  "kernelspec": {
   "display_name": "Python 3 (ipykernel)",
   "language": "python",
   "name": "python3"
  },
  "language_info": {
   "codemirror_mode": {
    "name": "ipython",
    "version": 3
   },
   "file_extension": ".py",
   "mimetype": "text/x-python",
   "name": "python",
   "nbconvert_exporter": "python",
   "pygments_lexer": "ipython3",
   "version": "3.11.4"
  }
 },
 "nbformat": 4,
 "nbformat_minor": 5
}
